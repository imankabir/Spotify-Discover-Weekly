{
 "cells": [
  {
   "cell_type": "markdown",
   "metadata": {},
   "source": [
    "##### Reference: https://towardsdatascience.com/making-your-own-discover-weekly-f1ac7546fedb"
   ]
  },
  {
   "cell_type": "markdown",
   "metadata": {},
   "source": [
    "---------------------------------------------------------------------------------------"
   ]
  },
  {
   "cell_type": "markdown",
   "metadata": {},
   "source": [
    "# Spotify Discover Weekly"
   ]
  },
  {
   "cell_type": "markdown",
   "metadata": {},
   "source": [
    "My goal with this project was to familiarize myself with the Spotify API and to apply machine learning classification algorithms to create my own Discover Weekly playlist.\n",
    "\n",
    "\n",
    "To do so, I made two playlists:\n",
    "\n",
    "        Good Songs: songs I actually like (1,056 songs)\n",
    "        Bad Songs: songs I don't like (990 songs)\n",
    "        \n",
    "Collecting the data took much longer than figuring out how to communicate with the API since my actual music library, which has over 10K songs, is on Apple Music :("
   ]
  },
  {
   "cell_type": "code",
   "execution_count": 4,
   "metadata": {},
   "outputs": [],
   "source": [
    "# Packages\n",
    "import spotipy \n",
    "from spotipy.oauth2 import SpotifyClientCredentials\n",
    "import spotipy.util as util\n",
    "import pandas as pd\n",
    "import numpy as np\n",
    "\n",
    "from sklearn import tree\n",
    "from sklearn.tree import DecisionTreeClassifier\n",
    "from sklearn.model_selection import train_test_split\n",
    "\n",
    "from matplotlib import pyplot as plt\n",
    "import seaborn as sns\n",
    "\n",
    "import graphviz\n",
    "import pydotplus\n",
    "import io\n",
    "\n",
    "from scipy import misc\n",
    "from sklearn.metrics import accuracy_score\n"
   ]
  },
  {
   "cell_type": "markdown",
   "metadata": {},
   "source": [
    "## Set up API"
   ]
  },
  {
   "cell_type": "code",
   "execution_count": 12,
   "metadata": {},
   "outputs": [],
   "source": [
    "cid = \"79ddadb243e64a42be83fb63751061e3\"\n",
    "secret = \"c33781fb65cd4eaeafc095c2a7132184\"\n",
    "username = \"1240047525\"\n",
    "\n",
    "client_credentials_manager = SpotifyClientCredentials(client_id = cid,\n",
    "        client_secret = secret)\n",
    "\n",
    "sp = spotipy.Spotify(client_credentials_manager = client_credentials_manager)\n",
    "\n",
    "scope = \"user-library-modify playlist-modify-public playlist-modify-private\"\n",
    "token = util.prompt_for_user_token(username,scope,client_id=cid,client_secret=secret,redirect_uri = \"http://localhost:8888\")\n",
    "\n",
    "\n",
    "if token:\n",
    "    sp = spotipy.Spotify(auth=token)\n",
    "else: \n",
    "    print(\"can't get token for \", username)"
   ]
  },
  {
   "cell_type": "markdown",
   "metadata": {},
   "source": [
    "##### Yay for json output"
   ]
  },
  {
   "cell_type": "code",
   "execution_count": 3,
   "metadata": {},
   "outputs": [
    {
     "data": {
      "text/plain": [
       "{'href': 'https://api.spotify.com/v1/users/1240047525/playlists?offset=0&limit=50',\n",
       " 'items': [{'collaborative': False,\n",
       "   'description': 'The best of country!! Updated every Friday with top hits from well known and up and coming country artists!! Toss a follow on this playlist and dont forget to share it! Hint: Sort by date added to get the most recently added!',\n",
       "   'external_urls': {'spotify': 'https://open.spotify.com/playlist/7d85RPHimZb0gR4PlY3IKq'},\n",
       "   'href': 'https://api.spotify.com/v1/playlists/7d85RPHimZb0gR4PlY3IKq',\n",
       "   'id': '7d85RPHimZb0gR4PlY3IKq',\n",
       "   'images': [{'height': None,\n",
       "     'url': 'https://i.scdn.co/image/ab67706c0000da843cbd7500d95837eb907b3cd6',\n",
       "     'width': None}],\n",
       "   'name': 'Top Country Hits (Updated Weekly)',\n",
       "   'owner': {'display_name': 'Seaon C Regis-Linteau',\n",
       "    'external_urls': {'spotify': 'https://open.spotify.com/user/seaon09'},\n",
       "    'href': 'https://api.spotify.com/v1/users/seaon09',\n",
       "    'id': 'seaon09',\n",
       "    'type': 'user',\n",
       "    'uri': 'spotify:user:seaon09'},\n",
       "   'primary_color': None,\n",
       "   'public': False,\n",
       "   'snapshot_id': 'MTk5NCxlZTQ3OGNkY2NlZGY2MjNiODhiMDliNzhjOTBkMTJmOTgwZjY3ZWU5',\n",
       "   'tracks': {'href': 'https://api.spotify.com/v1/playlists/7d85RPHimZb0gR4PlY3IKq/tracks',\n",
       "    'total': 302},\n",
       "   'type': 'playlist',\n",
       "   'uri': 'spotify:playlist:7d85RPHimZb0gR4PlY3IKq'},\n",
       "  {'collaborative': False,\n",
       "   'description': 'NOTICE: I am becoming much more active. Please email or Facebook Message me songs you think I&#x27;d like! | Thanks for checking out Top Dubstep! Only quality drops here, no effortless copy&#x2F;paste songs! New tracks added every few weeks. | Huge small artist supporter. | Thanks for 1100 followers!',\n",
       "   'external_urls': {'spotify': 'https://open.spotify.com/playlist/52Q1YxoDwumE5kVZ5RjSv4'},\n",
       "   'href': 'https://api.spotify.com/v1/playlists/52Q1YxoDwumE5kVZ5RjSv4',\n",
       "   'id': '52Q1YxoDwumE5kVZ5RjSv4',\n",
       "   'images': [{'height': None,\n",
       "     'url': 'https://i.scdn.co/image/ab67706c0000da844978558725e166068da4be07',\n",
       "     'width': None}],\n",
       "   'name': 'Top Dubstep',\n",
       "   'owner': {'display_name': 'Evan Meyers',\n",
       "    'external_urls': {'spotify': 'https://open.spotify.com/user/1247293543'},\n",
       "    'href': 'https://api.spotify.com/v1/users/1247293543',\n",
       "    'id': '1247293543',\n",
       "    'type': 'user',\n",
       "    'uri': 'spotify:user:1247293543'},\n",
       "   'primary_color': None,\n",
       "   'public': False,\n",
       "   'snapshot_id': 'NDYwLDE5MjRkOGVjOTlkMGQ1MGJmOWE5ZTQ2MDFjYmM1YzZkYWU1YTBjNmE=',\n",
       "   'tracks': {'href': 'https://api.spotify.com/v1/playlists/52Q1YxoDwumE5kVZ5RjSv4/tracks',\n",
       "    'total': 172},\n",
       "   'type': 'playlist',\n",
       "   'uri': 'spotify:playlist:52Q1YxoDwumE5kVZ5RjSv4'},\n",
       "  {'collaborative': False,\n",
       "   'description': \"Hear Travis Scott's new album ASTROWORLD plus all essential tracks, all in one playlist.\",\n",
       "   'external_urls': {'spotify': 'https://open.spotify.com/playlist/37i9dQZF1DWUgX5cUT0GbU'},\n",
       "   'href': 'https://api.spotify.com/v1/playlists/37i9dQZF1DWUgX5cUT0GbU',\n",
       "   'id': '37i9dQZF1DWUgX5cUT0GbU',\n",
       "   'images': [{'height': None,\n",
       "     'url': 'https://i.scdn.co/image/ab67706f0000000236f70792450e32a6af85dbf6',\n",
       "     'width': None}],\n",
       "   'name': 'This Is Travis Scott',\n",
       "   'owner': {'display_name': 'Spotify',\n",
       "    'external_urls': {'spotify': 'https://open.spotify.com/user/spotify'},\n",
       "    'href': 'https://api.spotify.com/v1/users/spotify',\n",
       "    'id': 'spotify',\n",
       "    'type': 'user',\n",
       "    'uri': 'spotify:user:spotify'},\n",
       "   'primary_color': None,\n",
       "   'public': False,\n",
       "   'snapshot_id': 'MTU4MzQ4ODcxOCwwMDAwMDAwODAwMDAwMTZkOTc0Njg0MTcwMDAwMDE3MGFmNDg1ODQ5',\n",
       "   'tracks': {'href': 'https://api.spotify.com/v1/playlists/37i9dQZF1DWUgX5cUT0GbU/tracks',\n",
       "    'total': 50},\n",
       "   'type': 'playlist',\n",
       "   'uri': 'spotify:playlist:37i9dQZF1DWUgX5cUT0GbU'},\n",
       "  {'collaborative': False,\n",
       "   'description': 'Celebrate Christmas with your favorite Christian artists and songs!',\n",
       "   'external_urls': {'spotify': 'https://open.spotify.com/playlist/37i9dQZF1DWViXqZVTGO3Z'},\n",
       "   'href': 'https://api.spotify.com/v1/playlists/37i9dQZF1DWViXqZVTGO3Z',\n",
       "   'id': '37i9dQZF1DWViXqZVTGO3Z',\n",
       "   'images': [{'height': None,\n",
       "     'url': 'https://i.scdn.co/image/ab67706f000000022ff28356309ad8228612dcef',\n",
       "     'width': None}],\n",
       "   'name': 'Christian Christmas',\n",
       "   'owner': {'display_name': 'Spotify',\n",
       "    'external_urls': {'spotify': 'https://open.spotify.com/user/spotify'},\n",
       "    'href': 'https://api.spotify.com/v1/users/spotify',\n",
       "    'id': 'spotify',\n",
       "    'type': 'user',\n",
       "    'uri': 'spotify:user:spotify'},\n",
       "   'primary_color': None,\n",
       "   'public': False,\n",
       "   'snapshot_id': 'MTU3NDk5NzM3MiwwMDAwMDAxODAwMDAwMTZlYjUyOGFjOGYwMDAwMDE2ZDAwYjEyMDlh',\n",
       "   'tracks': {'href': 'https://api.spotify.com/v1/playlists/37i9dQZF1DWViXqZVTGO3Z/tracks',\n",
       "    'total': 95},\n",
       "   'type': 'playlist',\n",
       "   'uri': 'spotify:playlist:37i9dQZF1DWViXqZVTGO3Z'},\n",
       "  {'collaborative': False,\n",
       "   'description': \"A kaleidoscopic journey from Kevin Parker's bedroom to the world stage - these are the majestic sounds of Tame Impala.\",\n",
       "   'external_urls': {'spotify': 'https://open.spotify.com/playlist/37i9dQZF1DX2zsdpDHp0xI'},\n",
       "   'href': 'https://api.spotify.com/v1/playlists/37i9dQZF1DX2zsdpDHp0xI',\n",
       "   'id': '37i9dQZF1DX2zsdpDHp0xI',\n",
       "   'images': [{'height': None,\n",
       "     'url': 'https://i.scdn.co/image/ab67706f000000029335916b653ccccd0e2692dc',\n",
       "     'width': None}],\n",
       "   'name': 'This Is Tame Impala',\n",
       "   'owner': {'display_name': 'Spotify',\n",
       "    'external_urls': {'spotify': 'https://open.spotify.com/user/spotify'},\n",
       "    'href': 'https://api.spotify.com/v1/users/spotify',\n",
       "    'id': 'spotify',\n",
       "    'type': 'user',\n",
       "    'uri': 'spotify:user:spotify'},\n",
       "   'primary_color': None,\n",
       "   'public': False,\n",
       "   'snapshot_id': 'MTU4Mzg0ODcwNCwwMDAwMDAxMTAwMDAwMTcwOWQ2Zjc5MzIwMDAwMDE3MGM0YmQ0YmFl',\n",
       "   'tracks': {'href': 'https://api.spotify.com/v1/playlists/37i9dQZF1DX2zsdpDHp0xI/tracks',\n",
       "    'total': 46},\n",
       "   'type': 'playlist',\n",
       "   'uri': 'spotify:playlist:37i9dQZF1DX2zsdpDHp0xI'},\n",
       "  {'collaborative': False,\n",
       "   'description': 'The latest from Sam Smith + Demi Lovato, Playboi Carti, DaBaby, and more!',\n",
       "   'external_urls': {'spotify': 'https://open.spotify.com/playlist/37i9dQZF1DX4JAvHpjipBk'},\n",
       "   'href': 'https://api.spotify.com/v1/playlists/37i9dQZF1DX4JAvHpjipBk',\n",
       "   'id': '37i9dQZF1DX4JAvHpjipBk',\n",
       "   'images': [{'height': None,\n",
       "     'url': 'https://i.scdn.co/image/ab67706f000000028c9c18ad9e092c39cd7f39b8',\n",
       "     'width': None}],\n",
       "   'name': 'New Music Friday',\n",
       "   'owner': {'display_name': 'Spotify',\n",
       "    'external_urls': {'spotify': 'https://open.spotify.com/user/spotify'},\n",
       "    'href': 'https://api.spotify.com/v1/users/spotify',\n",
       "    'id': 'spotify',\n",
       "    'type': 'user',\n",
       "    'uri': 'spotify:user:spotify'},\n",
       "   'primary_color': None,\n",
       "   'public': False,\n",
       "   'snapshot_id': 'MTU4NzA5NjcyNCwwMDAwMDJjZDAwMDAwMTcxODY1NjIzZDgwMDAwMDE3MTg1ODc3ODc4',\n",
       "   'tracks': {'href': 'https://api.spotify.com/v1/playlists/37i9dQZF1DX4JAvHpjipBk/tracks',\n",
       "    'total': 98},\n",
       "   'type': 'playlist',\n",
       "   'uri': 'spotify:playlist:37i9dQZF1DX4JAvHpjipBk'},\n",
       "  {'collaborative': False,\n",
       "   'description': 'Top Metal Songs Playlist by Metalhead Community. Greatest picks from the Underground Metal Scene. Visit; MetalheadCommunity.com ',\n",
       "   'external_urls': {'spotify': 'https://open.spotify.com/playlist/38OyccSqC4IrY2JnmGzgPZ'},\n",
       "   'href': 'https://api.spotify.com/v1/playlists/38OyccSqC4IrY2JnmGzgPZ',\n",
       "   'id': '38OyccSqC4IrY2JnmGzgPZ',\n",
       "   'images': [{'height': None,\n",
       "     'url': 'https://i.scdn.co/image/ab67706c0000da840097f1c2d0de519bed3ee34a',\n",
       "     'width': None}],\n",
       "   'name': 'Top Metal Songs by Metalhead Community',\n",
       "   'owner': {'display_name': 'HMT Team',\n",
       "    'external_urls': {'spotify': 'https://open.spotify.com/user/w7xb2jemewvqsmz9bl55fipjy'},\n",
       "    'href': 'https://api.spotify.com/v1/users/w7xb2jemewvqsmz9bl55fipjy',\n",
       "    'id': 'w7xb2jemewvqsmz9bl55fipjy',\n",
       "    'type': 'user',\n",
       "    'uri': 'spotify:user:w7xb2jemewvqsmz9bl55fipjy'},\n",
       "   'primary_color': None,\n",
       "   'public': False,\n",
       "   'snapshot_id': 'NjkwLGE1NDE5YzdiYmVlMmZkYmM4ODNlMjQ1MDFhZGZiMDdkYmM0YzVkNjM=',\n",
       "   'tracks': {'href': 'https://api.spotify.com/v1/playlists/38OyccSqC4IrY2JnmGzgPZ/tracks',\n",
       "    'total': 50},\n",
       "   'type': 'playlist',\n",
       "   'uri': 'spotify:playlist:38OyccSqC4IrY2JnmGzgPZ'},\n",
       "  {'collaborative': False,\n",
       "   'description': 'This is Joji. The essential tracks, all in one playlist.',\n",
       "   'external_urls': {'spotify': 'https://open.spotify.com/playlist/37i9dQZF1DZ06evO2cV1FC'},\n",
       "   'href': 'https://api.spotify.com/v1/playlists/37i9dQZF1DZ06evO2cV1FC',\n",
       "   'id': '37i9dQZF1DZ06evO2cV1FC',\n",
       "   'images': [{'height': None,\n",
       "     'url': 'https://thisis-images.scdn.co/37i9dQZF1DZ06evO2cV1FC-default.jpg',\n",
       "     'width': None}],\n",
       "   'name': 'This Is Joji',\n",
       "   'owner': {'display_name': 'Spotify',\n",
       "    'external_urls': {'spotify': 'https://open.spotify.com/user/spotify'},\n",
       "    'href': 'https://api.spotify.com/v1/users/spotify',\n",
       "    'id': 'spotify',\n",
       "    'type': 'user',\n",
       "    'uri': 'spotify:user:spotify'},\n",
       "   'primary_color': None,\n",
       "   'public': False,\n",
       "   'snapshot_id': 'MjY0NTUxNjAsMDAwMDAwMDA0MjM0ZGNmZDg4OWIzOWM5NmUwMGM4ZDBmOTlhMWYyYQ==',\n",
       "   'tracks': {'href': 'https://api.spotify.com/v1/playlists/37i9dQZF1DZ06evO2cV1FC/tracks',\n",
       "    'total': 32},\n",
       "   'type': 'playlist',\n",
       "   'uri': 'spotify:playlist:37i9dQZF1DZ06evO2cV1FC'},\n",
       "  {'collaborative': False,\n",
       "   'description': 'Thugger leaves us fascinated with his every move. Check out his best moments here.',\n",
       "   'external_urls': {'spotify': 'https://open.spotify.com/playlist/37i9dQZF1DXe5osTANjnfx'},\n",
       "   'href': 'https://api.spotify.com/v1/playlists/37i9dQZF1DXe5osTANjnfx',\n",
       "   'id': '37i9dQZF1DXe5osTANjnfx',\n",
       "   'images': [{'height': None,\n",
       "     'url': 'https://i.scdn.co/image/ab67706f00000002e60d085bf9882288e8325fb4',\n",
       "     'width': None}],\n",
       "   'name': 'This Is: Young Thug',\n",
       "   'owner': {'display_name': 'Spotify',\n",
       "    'external_urls': {'spotify': 'https://open.spotify.com/user/spotify'},\n",
       "    'href': 'https://api.spotify.com/v1/users/spotify',\n",
       "    'id': 'spotify',\n",
       "    'type': 'user',\n",
       "    'uri': 'spotify:user:spotify'},\n",
       "   'primary_color': None,\n",
       "   'public': False,\n",
       "   'snapshot_id': 'MTU4MzQ4ODgyNCwwMDAwMDAwNjAwMDAwMTZkYWRkYjBmNjUwMDAwMDE3MGFmNDlmNDE4',\n",
       "   'tracks': {'href': 'https://api.spotify.com/v1/playlists/37i9dQZF1DXe5osTANjnfx/tracks',\n",
       "    'total': 53},\n",
       "   'type': 'playlist',\n",
       "   'uri': 'spotify:playlist:37i9dQZF1DXe5osTANjnfx'},\n",
       "  {'collaborative': False,\n",
       "   'description': 'Work from home with the biggest throwback hits of the 10s decade!',\n",
       "   'external_urls': {'spotify': 'https://open.spotify.com/playlist/1tPWTwuxOLsE2Do1JQSUxA'},\n",
       "   'href': 'https://api.spotify.com/v1/playlists/1tPWTwuxOLsE2Do1JQSUxA',\n",
       "   'id': '1tPWTwuxOLsE2Do1JQSUxA',\n",
       "   'images': [{'height': None,\n",
       "     'url': 'https://i.scdn.co/image/ab67706c0000da84cbcedbf0465e6ce647c6799d',\n",
       "     'width': None}],\n",
       "   'name': '2010s Hits',\n",
       "   'owner': {'display_name': 'Filtr UK',\n",
       "    'external_urls': {'spotify': 'https://open.spotify.com/user/sonymusicuk'},\n",
       "    'href': 'https://api.spotify.com/v1/users/sonymusicuk',\n",
       "    'id': 'sonymusicuk',\n",
       "    'type': 'user',\n",
       "    'uri': 'spotify:user:sonymusicuk'},\n",
       "   'primary_color': None,\n",
       "   'public': False,\n",
       "   'snapshot_id': 'MTI0NixjZTZmNmFhZTNiNThlNzNhNGIwZjg1MTVmZDlmYjUyMjcxNDFhOTg5',\n",
       "   'tracks': {'href': 'https://api.spotify.com/v1/playlists/1tPWTwuxOLsE2Do1JQSUxA/tracks',\n",
       "    'total': 110},\n",
       "   'type': 'playlist',\n",
       "   'uri': 'spotify:playlist:1tPWTwuxOLsE2Do1JQSUxA'},\n",
       "  {'collaborative': False,\n",
       "   'description': '',\n",
       "   'external_urls': {'spotify': 'https://open.spotify.com/playlist/5nScslhDjxqWjRhhvAmYZv'},\n",
       "   'href': 'https://api.spotify.com/v1/playlists/5nScslhDjxqWjRhhvAmYZv',\n",
       "   'id': '5nScslhDjxqWjRhhvAmYZv',\n",
       "   'images': [{'height': 640,\n",
       "     'url': 'https://mosaic.scdn.co/640/ab67616d0000b2733dc838cf6504d48c3e2529e4ab67616d0000b273674910c35145b63c6786d5daab67616d0000b27382d0ba5e8fb1878331d13e74ab67616d0000b273d8950d4a56f1775315198ffb',\n",
       "     'width': 640},\n",
       "    {'height': 300,\n",
       "     'url': 'https://mosaic.scdn.co/300/ab67616d0000b2733dc838cf6504d48c3e2529e4ab67616d0000b273674910c35145b63c6786d5daab67616d0000b27382d0ba5e8fb1878331d13e74ab67616d0000b273d8950d4a56f1775315198ffb',\n",
       "     'width': 300},\n",
       "    {'height': 60,\n",
       "     'url': 'https://mosaic.scdn.co/60/ab67616d0000b2733dc838cf6504d48c3e2529e4ab67616d0000b273674910c35145b63c6786d5daab67616d0000b27382d0ba5e8fb1878331d13e74ab67616d0000b273d8950d4a56f1775315198ffb',\n",
       "     'width': 60}],\n",
       "   'name': '1990s Country Music',\n",
       "   'owner': {'display_name': 'Dallas Shipp',\n",
       "    'external_urls': {'spotify': 'https://open.spotify.com/user/1223796206'},\n",
       "    'href': 'https://api.spotify.com/v1/users/1223796206',\n",
       "    'id': '1223796206',\n",
       "    'type': 'user',\n",
       "    'uri': 'spotify:user:1223796206'},\n",
       "   'primary_color': None,\n",
       "   'public': False,\n",
       "   'snapshot_id': 'MjE3LDY2YzNlOWIwNTBiMjM4Yzg0NGU4ZTQ3YzNiY2IyNmUwZWZhMTU2ZWI=',\n",
       "   'tracks': {'href': 'https://api.spotify.com/v1/playlists/5nScslhDjxqWjRhhvAmYZv/tracks',\n",
       "    'total': 202},\n",
       "   'type': 'playlist',\n",
       "   'uri': 'spotify:playlist:5nScslhDjxqWjRhhvAmYZv'},\n",
       "  {'collaborative': False,\n",
       "   'description': '',\n",
       "   'external_urls': {'spotify': 'https://open.spotify.com/playlist/6CXPHSOAGsvpp7Tb6ICTya'},\n",
       "   'href': 'https://api.spotify.com/v1/playlists/6CXPHSOAGsvpp7Tb6ICTya',\n",
       "   'id': '6CXPHSOAGsvpp7Tb6ICTya',\n",
       "   'images': [{'height': 640,\n",
       "     'url': 'https://mosaic.scdn.co/640/ab67616d0000b2730f6ce5c138493ac768d9afc8ab67616d0000b273bcffa22a72aaf0f66734759bab67616d0000b273cc57e9b00b87dd0f6e868347ab67616d0000b273d783288bbf886a5d2b54263b',\n",
       "     'width': 640},\n",
       "    {'height': 300,\n",
       "     'url': 'https://mosaic.scdn.co/300/ab67616d0000b2730f6ce5c138493ac768d9afc8ab67616d0000b273bcffa22a72aaf0f66734759bab67616d0000b273cc57e9b00b87dd0f6e868347ab67616d0000b273d783288bbf886a5d2b54263b',\n",
       "     'width': 300},\n",
       "    {'height': 60,\n",
       "     'url': 'https://mosaic.scdn.co/60/ab67616d0000b2730f6ce5c138493ac768d9afc8ab67616d0000b273bcffa22a72aaf0f66734759bab67616d0000b273cc57e9b00b87dd0f6e868347ab67616d0000b273d783288bbf886a5d2b54263b',\n",
       "     'width': 60}],\n",
       "   'name': '80s music',\n",
       "   'owner': {'display_name': 'gavinballard',\n",
       "    'external_urls': {'spotify': 'https://open.spotify.com/user/gavinballard'},\n",
       "    'href': 'https://api.spotify.com/v1/users/gavinballard',\n",
       "    'id': 'gavinballard',\n",
       "    'type': 'user',\n",
       "    'uri': 'spotify:user:gavinballard'},\n",
       "   'primary_color': None,\n",
       "   'public': False,\n",
       "   'snapshot_id': 'OTIsMjVjYmQ1YWRlOTk2ZDI5NDQzNzhmZGE5NGY1NjY1ZWI3ZDU0ZjMxOA==',\n",
       "   'tracks': {'href': 'https://api.spotify.com/v1/playlists/6CXPHSOAGsvpp7Tb6ICTya/tracks',\n",
       "    'total': 80},\n",
       "   'type': 'playlist',\n",
       "   'uri': 'spotify:playlist:6CXPHSOAGsvpp7Tb6ICTya'},\n",
       "  {'collaborative': False,\n",
       "   'description': '',\n",
       "   'external_urls': {'spotify': 'https://open.spotify.com/playlist/75AqhOZrKK8p57gqPufZPg'},\n",
       "   'href': 'https://api.spotify.com/v1/playlists/75AqhOZrKK8p57gqPufZPg',\n",
       "   'id': '75AqhOZrKK8p57gqPufZPg',\n",
       "   'images': [{'height': 640,\n",
       "     'url': 'https://mosaic.scdn.co/640/ab67616d0000b27359196493751e889582a8c8a2ab67616d0000b273a8386711c6f52e6f99cde791ab67616d0000b273b7578013decfa174e30dc298ab67616d0000b273f40b427040108cfcb1503800',\n",
       "     'width': 640},\n",
       "    {'height': 300,\n",
       "     'url': 'https://mosaic.scdn.co/300/ab67616d0000b27359196493751e889582a8c8a2ab67616d0000b273a8386711c6f52e6f99cde791ab67616d0000b273b7578013decfa174e30dc298ab67616d0000b273f40b427040108cfcb1503800',\n",
       "     'width': 300},\n",
       "    {'height': 60,\n",
       "     'url': 'https://mosaic.scdn.co/60/ab67616d0000b27359196493751e889582a8c8a2ab67616d0000b273a8386711c6f52e6f99cde791ab67616d0000b273b7578013decfa174e30dc298ab67616d0000b273f40b427040108cfcb1503800',\n",
       "     'width': 60}],\n",
       "   'name': 'bad_songs',\n",
       "   'owner': {'display_name': 'Iman Kabir',\n",
       "    'external_urls': {'spotify': 'https://open.spotify.com/user/1240047525'},\n",
       "    'href': 'https://api.spotify.com/v1/users/1240047525',\n",
       "    'id': '1240047525',\n",
       "    'type': 'user',\n",
       "    'uri': 'spotify:user:1240047525'},\n",
       "   'primary_color': None,\n",
       "   'public': True,\n",
       "   'snapshot_id': 'MTAwNSxjOTAxNmU4ZDlmZTBhYTQ4YTcyNDlhYTEwNGJhMTlmNWU5MTRhNTZh',\n",
       "   'tracks': {'href': 'https://api.spotify.com/v1/playlists/75AqhOZrKK8p57gqPufZPg/tracks',\n",
       "    'total': 1002},\n",
       "   'type': 'playlist',\n",
       "   'uri': 'spotify:playlist:75AqhOZrKK8p57gqPufZPg'},\n",
       "  {'collaborative': False,\n",
       "   'description': '',\n",
       "   'external_urls': {'spotify': 'https://open.spotify.com/playlist/5IgF6LOJlnlKKnNLiEJeUl'},\n",
       "   'href': 'https://api.spotify.com/v1/playlists/5IgF6LOJlnlKKnNLiEJeUl',\n",
       "   'id': '5IgF6LOJlnlKKnNLiEJeUl',\n",
       "   'images': [{'height': 640,\n",
       "     'url': 'https://mosaic.scdn.co/640/ab67616d0000b2733760def989ef22ba66b34ecdab67616d0000b273490a886fd5517388d3b066c8ab67616d0000b27372c5265c12fd8effdc006b75ab67616d0000b273d08014840a66d6ea85a73115',\n",
       "     'width': 640},\n",
       "    {'height': 300,\n",
       "     'url': 'https://mosaic.scdn.co/300/ab67616d0000b2733760def989ef22ba66b34ecdab67616d0000b273490a886fd5517388d3b066c8ab67616d0000b27372c5265c12fd8effdc006b75ab67616d0000b273d08014840a66d6ea85a73115',\n",
       "     'width': 300},\n",
       "    {'height': 60,\n",
       "     'url': 'https://mosaic.scdn.co/60/ab67616d0000b2733760def989ef22ba66b34ecdab67616d0000b273490a886fd5517388d3b066c8ab67616d0000b27372c5265c12fd8effdc006b75ab67616d0000b273d08014840a66d6ea85a73115',\n",
       "     'width': 60}],\n",
       "   'name': 'good_songs',\n",
       "   'owner': {'display_name': 'Iman Kabir',\n",
       "    'external_urls': {'spotify': 'https://open.spotify.com/user/1240047525'},\n",
       "    'href': 'https://api.spotify.com/v1/users/1240047525',\n",
       "    'id': '1240047525',\n",
       "    'type': 'user',\n",
       "    'uri': 'spotify:user:1240047525'},\n",
       "   'primary_color': None,\n",
       "   'public': False,\n",
       "   'snapshot_id': 'NjEzLGEyNzQyZDg2NTM3OTE3MjAyYmExZTcxMmE0ZDRjZjEwYTYxODg1Mzk=',\n",
       "   'tracks': {'href': 'https://api.spotify.com/v1/playlists/5IgF6LOJlnlKKnNLiEJeUl/tracks',\n",
       "    'total': 1057},\n",
       "   'type': 'playlist',\n",
       "   'uri': 'spotify:playlist:5IgF6LOJlnlKKnNLiEJeUl'},\n",
       "  {'collaborative': False,\n",
       "   'description': '',\n",
       "   'external_urls': {'spotify': 'https://open.spotify.com/playlist/3wQ0zUwNEiRubtXcRvyuJk'},\n",
       "   'href': 'https://api.spotify.com/v1/playlists/3wQ0zUwNEiRubtXcRvyuJk',\n",
       "   'id': '3wQ0zUwNEiRubtXcRvyuJk',\n",
       "   'images': [{'height': 640,\n",
       "     'url': 'https://i.scdn.co/image/ab67616d0000b273611e2249b146d64d9dbc6de5',\n",
       "     'width': 640}],\n",
       "   'name': 'antennas up',\n",
       "   'owner': {'display_name': 'Iman Kabir',\n",
       "    'external_urls': {'spotify': 'https://open.spotify.com/user/1240047525'},\n",
       "    'href': 'https://api.spotify.com/v1/users/1240047525',\n",
       "    'id': '1240047525',\n",
       "    'type': 'user',\n",
       "    'uri': 'spotify:user:1240047525'},\n",
       "   'primary_color': None,\n",
       "   'public': True,\n",
       "   'snapshot_id': 'NCxlODNhMGRjOTc1ZDAwMWE3NGVmYzk0NGI5ZmJlYTcyNTBhYTU2YzE5',\n",
       "   'tracks': {'href': 'https://api.spotify.com/v1/playlists/3wQ0zUwNEiRubtXcRvyuJk/tracks',\n",
       "    'total': 11},\n",
       "   'type': 'playlist',\n",
       "   'uri': 'spotify:playlist:3wQ0zUwNEiRubtXcRvyuJk'},\n",
       "  {'collaborative': False,\n",
       "   'description': '',\n",
       "   'external_urls': {'spotify': 'https://open.spotify.com/playlist/6fnXGXgjhBh0hXasClHN5T'},\n",
       "   'href': 'https://api.spotify.com/v1/playlists/6fnXGXgjhBh0hXasClHN5T',\n",
       "   'id': '6fnXGXgjhBh0hXasClHN5T',\n",
       "   'images': [{'height': 640,\n",
       "     'url': 'https://i.scdn.co/image/ab67616d0000b2737aede4855f6d0d738012e2e5',\n",
       "     'width': 640}],\n",
       "   'name': 'Frank Ocean Channel Orange',\n",
       "   'owner': {'display_name': 'Iman Kabir',\n",
       "    'external_urls': {'spotify': 'https://open.spotify.com/user/1240047525'},\n",
       "    'href': 'https://api.spotify.com/v1/users/1240047525',\n",
       "    'id': '1240047525',\n",
       "    'type': 'user',\n",
       "    'uri': 'spotify:user:1240047525'},\n",
       "   'primary_color': None,\n",
       "   'public': True,\n",
       "   'snapshot_id': 'MyxlNDkyZGExNTJhNTVmZjMzZTY1MzM2MzMyZDNlNjEyYWM3MWZlYjdj',\n",
       "   'tracks': {'href': 'https://api.spotify.com/v1/playlists/6fnXGXgjhBh0hXasClHN5T/tracks',\n",
       "    'total': 17},\n",
       "   'type': 'playlist',\n",
       "   'uri': 'spotify:playlist:6fnXGXgjhBh0hXasClHN5T'},\n",
       "  {'collaborative': False,\n",
       "   'description': '<a href=\"http://www.mtv.com/shows/awkward/\">Awkward</a> returns Monday nights at 9/8c on August 31. Check out music from past episodes <a href=\"http://soundtrack.mtv.com/post/category/shows/awkward\">here</a>\\xa0',\n",
       "   'external_urls': {'spotify': 'https://open.spotify.com/playlist/6oKsBtsWnJlhUXsjgYAr0k'},\n",
       "   'href': 'https://api.spotify.com/v1/playlists/6oKsBtsWnJlhUXsjgYAr0k',\n",
       "   'id': '6oKsBtsWnJlhUXsjgYAr0k',\n",
       "   'images': [{'height': None,\n",
       "     'url': 'https://i.scdn.co/image/ab67706c0000da84e2597b48c50e1dfceacefaa5',\n",
       "     'width': None}],\n",
       "   'name': 'MTV Awkward Episode 5 Season 2',\n",
       "   'owner': {'display_name': 'MTV Soundtrack',\n",
       "    'external_urls': {'spotify': 'https://open.spotify.com/user/mtvsoundtrack'},\n",
       "    'href': 'https://api.spotify.com/v1/users/mtvsoundtrack',\n",
       "    'id': 'mtvsoundtrack',\n",
       "    'type': 'user',\n",
       "    'uri': 'spotify:user:mtvsoundtrack'},\n",
       "   'primary_color': None,\n",
       "   'public': True,\n",
       "   'snapshot_id': 'MTYsM2YyODBhZmUzNGVjNTc4MmE4MGFkZjVjZGJkZTBmMDVjYWUyM2Q5Mg==',\n",
       "   'tracks': {'href': 'https://api.spotify.com/v1/playlists/6oKsBtsWnJlhUXsjgYAr0k/tracks',\n",
       "    'total': 10},\n",
       "   'type': 'playlist',\n",
       "   'uri': 'spotify:playlist:6oKsBtsWnJlhUXsjgYAr0k'},\n",
       "  {'collaborative': False,\n",
       "   'description': '',\n",
       "   'external_urls': {'spotify': 'https://open.spotify.com/playlist/5WGLRnRvDVFhJtDqNhBmJm'},\n",
       "   'href': 'https://api.spotify.com/v1/playlists/5WGLRnRvDVFhJtDqNhBmJm',\n",
       "   'id': '5WGLRnRvDVFhJtDqNhBmJm',\n",
       "   'images': [{'height': 640,\n",
       "     'url': 'https://i.scdn.co/image/ab67616d0000b273a2f0ca0b0f6f12d5541fea7c',\n",
       "     'width': 640}],\n",
       "   'name': 'best coast',\n",
       "   'owner': {'display_name': 'Iman Kabir',\n",
       "    'external_urls': {'spotify': 'https://open.spotify.com/user/1240047525'},\n",
       "    'href': 'https://api.spotify.com/v1/users/1240047525',\n",
       "    'id': '1240047525',\n",
       "    'type': 'user',\n",
       "    'uri': 'spotify:user:1240047525'},\n",
       "   'primary_color': None,\n",
       "   'public': True,\n",
       "   'snapshot_id': 'NSwwNjRkNTVmZTI3OTdlZTAwODUxYjU2MjI4Y2RjZTBiYmUzYjAzZmE0',\n",
       "   'tracks': {'href': 'https://api.spotify.com/v1/playlists/5WGLRnRvDVFhJtDqNhBmJm/tracks',\n",
       "    'total': 1},\n",
       "   'type': 'playlist',\n",
       "   'uri': 'spotify:playlist:5WGLRnRvDVFhJtDqNhBmJm'},\n",
       "  {'collaborative': False,\n",
       "   'description': '',\n",
       "   'external_urls': {'spotify': 'https://open.spotify.com/playlist/6pKku3sCI9VnunmtqRa89v'},\n",
       "   'href': 'https://api.spotify.com/v1/playlists/6pKku3sCI9VnunmtqRa89v',\n",
       "   'id': '6pKku3sCI9VnunmtqRa89v',\n",
       "   'images': [{'height': 640,\n",
       "     'url': 'https://mosaic.scdn.co/640/ab67616d0000b27312430674777fbe300ea4d60bab67616d0000b2732d0d62254b996e6da30d88feab67616d0000b2735487aaafae16fa934690a020ab67616d0000b273ecc82c3f149e5402781ade29',\n",
       "     'width': 640},\n",
       "    {'height': 300,\n",
       "     'url': 'https://mosaic.scdn.co/300/ab67616d0000b27312430674777fbe300ea4d60bab67616d0000b2732d0d62254b996e6da30d88feab67616d0000b2735487aaafae16fa934690a020ab67616d0000b273ecc82c3f149e5402781ade29',\n",
       "     'width': 300},\n",
       "    {'height': 60,\n",
       "     'url': 'https://mosaic.scdn.co/60/ab67616d0000b27312430674777fbe300ea4d60bab67616d0000b2732d0d62254b996e6da30d88feab67616d0000b2735487aaafae16fa934690a020ab67616d0000b273ecc82c3f149e5402781ade29',\n",
       "     'width': 60}],\n",
       "   'name': 'iTunes',\n",
       "   'owner': {'display_name': 'Iman Kabir',\n",
       "    'external_urls': {'spotify': 'https://open.spotify.com/user/1240047525'},\n",
       "    'href': 'https://api.spotify.com/v1/users/1240047525',\n",
       "    'id': '1240047525',\n",
       "    'type': 'user',\n",
       "    'uri': 'spotify:user:1240047525'},\n",
       "   'primary_color': None,\n",
       "   'public': False,\n",
       "   'snapshot_id': 'MTAsNTJjZTNhZTJhOWU4N2FmNDk1NGZmZDk2NzIxMjJmOWM0OWY0MjJmMw==',\n",
       "   'tracks': {'href': 'https://api.spotify.com/v1/playlists/6pKku3sCI9VnunmtqRa89v/tracks',\n",
       "    'total': 8},\n",
       "   'type': 'playlist',\n",
       "   'uri': 'spotify:playlist:6pKku3sCI9VnunmtqRa89v'}],\n",
       " 'limit': 50,\n",
       " 'next': None,\n",
       " 'offset': 0,\n",
       " 'previous': None,\n",
       " 'total': 19}"
      ]
     },
     "execution_count": 3,
     "metadata": {},
     "output_type": "execute_result"
    }
   ],
   "source": [
    "sp.current_user_playlists()"
   ]
  },
  {
   "cell_type": "code",
   "execution_count": 8,
   "metadata": {},
   "outputs": [],
   "source": [
    "playlist_ids= [\"7d85RPHimZb0gR4PlY3IKq?si=Y1MeYEFIRZ-TBjPXJP8bbA\",\"52Q1YxoDwumE5kVZ5RjSv4?si=a2yGQr3IQHOiB3Wuqg-1Ew\"\n",
    "               ,\"37i9dQZF1DWUgX5cUT0GbU?si=6qk16-WwSRizDzYvHZIN2g\",\"37i9dQZF1DWViXqZVTGO3Z?si=VnUBc162TjijyU4g0Bb80w\"\n",
    "               ,\"37i9dQZF1DX2zsdpDHp0xI?si=otSpGk--RZCRU9h-g07sjA\",\"37i9dQZF1DX4JAvHpjipBk?si=bEX6B75VSLKFQUlp1MwPgw\"\n",
    "               ,\"38OyccSqC4IrY2JnmGzgPZ?si=fNIZ3PNaRdWvNXg0innNUQ\",\"37i9dQZF1DZ06evO2cV1FC?si=ggotUeZWQOOPtUWcW6Ps8w\"\n",
    "               ,\"37i9dQZF1DXe5osTANjnfx?si=mJda6konQ0u4YUwn0XRfYg\",\"1tPWTwuxOLsE2Do1JQSUxA?si=XJxpVeaqRBafZCb-0aXVLg\"\n",
    "               ,\"5nScslhDjxqWjRhhvAmYZv?si=_qD613ToQeakvxMiExiBsA\"]\n",
    "\n",
    "for playlist in playlist_ids:\n",
    "    sourcePlaylist = sp.user_playlist(\"1240047525\",playlist)\n",
    "    tracks = sourcePlaylist[\"tracks\"]\n",
    "    songs = tracks[\"items\"]\n",
    "    while tracks[\"next\"]:\n",
    "        tracks = sp.next(tracks)\n",
    "        for item in tracks[\"items\"]:\n",
    "            songs.append(item)\n",
    "    ids = []\n",
    "    print(len(songs))\n",
    "    print(songs[0]['track']['id'])\n",
    "    i = 0\n",
    "    for i in range(len(songs)):\n",
    "        sp.user_playlist_add_tracks(\"1240047525\",\"75AqhOZrKK8p57gqPufZPg\",[songs[i][\"track\"][\"id\"]])\n",
    "        #bad list https://open.spotify.com/playlist/75AqhOZrKK8p57gqPufZPg?si=XRygOTc_SwCRj_pLAGne5A "
   ]
  },
  {
   "cell_type": "markdown",
   "metadata": {},
   "source": [
    "# Feature Extraction"
   ]
  },
  {
   "cell_type": "markdown",
   "metadata": {},
   "source": [
    "I extracted the following features from songs I like and dislike to analyze how or if there is a significant difference or trend between the two classes:\n",
    "\n",
    "        tempo\n",
    "        danceability\n",
    "        duration_ms\n",
    "        loudness\n",
    "        speechiness\n",
    "        valence\n",
    "        energy\n",
    "        acousticness\n",
    "        key\n",
    "        instrumentalness"
   ]
  },
  {
   "cell_type": "code",
   "execution_count": 7,
   "metadata": {},
   "outputs": [],
   "source": [
    "good_playlist = sp.user_playlist(\"1240047525\",\"5IgF6LOJlnlKKnNLiEJeUl\")\n",
    "\n",
    "bad_playlist = sp.user_playlist(\"1240047525\",\"75AqhOZrKK8p57gqPufZPg\")"
   ]
  },
  {
   "cell_type": "code",
   "execution_count": 8,
   "metadata": {},
   "outputs": [
    {
     "name": "stdout",
     "output_type": "stream",
     "text": [
      "1057\n"
     ]
    }
   ],
   "source": [
    "good_tracks = good_playlist[\"tracks\"]\n",
    "good_songs = good_tracks[\"items\"]\n",
    "while good_tracks[\"next\"]:\n",
    "    good_tracks = sp.next(good_tracks)\n",
    "    for item in good_tracks[\"items\"]:\n",
    "        good_songs.append(item)\n",
    "good_ids = []\n",
    "print(len(good_songs))\n",
    "for i in range(len(good_songs)): ## Using all the data for now\n",
    "    good_ids.append(good_songs[i]['track']['id'])"
   ]
  },
  {
   "cell_type": "code",
   "execution_count": 9,
   "metadata": {},
   "outputs": [
    {
     "name": "stdout",
     "output_type": "stream",
     "text": [
      "1002\n"
     ]
    }
   ],
   "source": [
    "bad_tracks = bad_playlist[\"tracks\"]\n",
    "bad_songs = []\n",
    "bad_songs = bad_tracks['items']\n",
    "while bad_tracks[\"next\"]:\n",
    "    bad_tracks = sp.next(bad_tracks)\n",
    "    for item in bad_tracks['items']:\n",
    "        bad_songs.append(item)\n",
    "bad_ids = []\n",
    "print(len(bad_songs))\n",
    "for i in range(len(bad_songs)):\n",
    "    bad_ids.append(bad_songs[i]['track']['id'])"
   ]
  },
  {
   "cell_type": "code",
   "execution_count": 13,
   "metadata": {},
   "outputs": [],
   "source": [
    "features = []\n",
    "inSavedTracks = []\n",
    "j = 0\n",
    "for i in range(0,len(good_ids),50):\n",
    "    audio_features = sp.audio_features(good_ids[i:i+50])\n",
    "    for track in audio_features:\n",
    "        features.append(track)\n",
    "        track = good_songs[j]\n",
    "        j = j + 1\n",
    "        features[-1]['trackPopularity'] = track['track']['popularity']\n",
    "        features[-1]['artistPopularity'] = sp.artist(track['track']['artists'][0]['id'])['popularity']\n",
    "        \n",
    "        features[-1]['target'] = 1 # updalte last row for class 1\n",
    "j = 0\n",
    "for i in range(0,len(bad_ids),50):\n",
    "    audio_features = sp.audio_features(bad_ids[i:i+50])\n",
    "    for track in audio_features:\n",
    "        features.append(track)\n",
    "        track = bad_songs[j]\n",
    "        j = j + 1\n",
    "        features[-1]['trackPopularity'] = track['track']['popularity']\n",
    "        features[-1]['artistPopularity'] = sp.artist(track['track']['artists'][0]['id'])['popularity']\n",
    "        \n",
    "        features[-1]['target'] = 0 # updalte last row for class 1\n"
   ]
  },
  {
   "cell_type": "markdown",
   "metadata": {},
   "source": [
    "# Data Exploration"
   ]
  },
  {
   "cell_type": "code",
   "execution_count": 14,
   "metadata": {},
   "outputs": [],
   "source": [
    "trainingData = pd.DataFrame(features)"
   ]
  },
  {
   "cell_type": "code",
   "execution_count": 33,
   "metadata": {},
   "outputs": [
    {
     "name": "stdout",
     "output_type": "stream",
     "text": [
      "Training size: 1750, Test size: 309\n"
     ]
    }
   ],
   "source": [
    "train,test = train_test_split(trainingData, test_size = 0.15)\n",
    "print(\"Training size: {}, Test size: {}\".format(len(train),len(test)))"
   ]
  },
  {
   "cell_type": "code",
   "execution_count": 35,
   "metadata": {},
   "outputs": [],
   "source": [
    "red_blue = ['#19B5FE', '#EF4836']\n",
    "palette = sns.color_palette(red_blue)\n",
    "sns.set_palette(palette)\n",
    "sns.set_style('white')"
   ]
  },
  {
   "cell_type": "code",
   "execution_count": 36,
   "metadata": {},
   "outputs": [],
   "source": [
    "pos_tempo = trainingData[trainingData['target'] == 1]['tempo']\n",
    "neg_tempo = trainingData[trainingData['target'] == 0]['tempo']\n",
    "pos_dance = trainingData[trainingData['target'] == 1]['danceability']\n",
    "neg_dance = trainingData[trainingData['target'] == 0]['danceability']\n",
    "pos_duration = trainingData[trainingData['target'] == 1]['duration_ms']\n",
    "neg_duration = trainingData[trainingData['target'] == 0]['duration_ms']\n",
    "pos_loudness = trainingData[trainingData['target'] == 1]['loudness']\n",
    "neg_loudness = trainingData[trainingData['target'] == 0]['loudness']\n",
    "pos_speechiness = trainingData[trainingData['target'] == 1]['speechiness']\n",
    "neg_speechiness = trainingData[trainingData['target'] == 0]['speechiness']\n",
    "pos_valence = trainingData[trainingData['target'] == 1]['valence']\n",
    "neg_valence = trainingData[trainingData['target'] == 0]['valence']\n",
    "pos_energy = trainingData[trainingData['target'] == 1]['energy']\n",
    "neg_energy = trainingData[trainingData['target'] == 0]['energy']\n",
    "pos_acousticness = trainingData[trainingData['target'] == 1]['acousticness']\n",
    "neg_acousticness = trainingData[trainingData['target'] == 0]['acousticness']\n",
    "pos_key = trainingData[trainingData['target'] == 1]['key']\n",
    "neg_key = trainingData[trainingData['target'] == 0]['key']\n",
    "pos_instrumentalness = trainingData[trainingData['target'] == 1]['instrumentalness']\n",
    "neg_instrumentalness = trainingData[trainingData['target'] == 0]['instrumentalness']\n",
    "pos_popularity = trainingData[trainingData['target'] == 1]['trackPopularity']\n",
    "neg_popularity = trainingData[trainingData['target'] == 0]['trackPopularity']"
   ]
  },
  {
   "cell_type": "code",
   "execution_count": 40,
   "metadata": {},
   "outputs": [
    {
     "data": {
      "text/plain": [
       "<matplotlib.legend.Legend at 0x1a16ca5320>"
      ]
     },
     "execution_count": 40,
     "metadata": {},
     "output_type": "execute_result"
    },
    {
     "data": {
      "image/png": "[encoded data removed]",
      "text/plain": [
       "<Figure size 864x576 with 1 Axes>"
      ]
     },
     "metadata": {},
     "output_type": "display_data"
    }
   ],
   "source": [
    "fig = plt.figure(figsize=(12,8))\n",
    "plt.title(\"Song Temp Like / Dislike Distribution\")\n",
    "pos_tempo.hist(alpha=0.7,bins=30,label='positive')\n",
    "neg_tempo.hist(alpha=0.7,bins=30,label='negative')\n",
    "plt.legend(loc='upper right')"
   ]
  },
  {
   "cell_type": "markdown",
   "metadata": {},
   "source": [
    "######  Figure 1: <center>  Hmmm... seems I'm into much  cheerful music than I thought. </center>"
   ]
  },
  {
   "cell_type": "code",
   "execution_count": 46,
   "metadata": {},
   "outputs": [
    {
     "name": "stderr",
     "output_type": "stream",
     "text": [
      "/Users/rubinakabir/miniconda3/envs/myenv/lib/python3.6/site-packages/matplotlib/figure.py:98: MatplotlibDeprecationWarning: \n",
      "Adding an axes using the same arguments as a previous axes currently reuses the earlier instance.  In a future version, a new instance will always be created and returned.  Meanwhile, this warning can be suppressed, and the future behavior ensured, by passing a unique label to each axes instance.\n",
      "  \"Adding an axes using the same arguments as a previous axes \"\n",
      "/Users/rubinakabir/miniconda3/envs/myenv/lib/python3.6/site-packages/matplotlib/figure.py:98: MatplotlibDeprecationWarning: \n",
      "Adding an axes using the same arguments as a previous axes currently reuses the earlier instance.  In a future version, a new instance will always be created and returned.  Meanwhile, this warning can be suppressed, and the future behavior ensured, by passing a unique label to each axes instance.\n",
      "  \"Adding an axes using the same arguments as a previous axes \"\n",
      "/Users/rubinakabir/miniconda3/envs/myenv/lib/python3.6/site-packages/matplotlib/figure.py:98: MatplotlibDeprecationWarning: \n",
      "Adding an axes using the same arguments as a previous axes currently reuses the earlier instance.  In a future version, a new instance will always be created and returned.  Meanwhile, this warning can be suppressed, and the future behavior ensured, by passing a unique label to each axes instance.\n",
      "  \"Adding an axes using the same arguments as a previous axes \"\n",
      "/Users/rubinakabir/miniconda3/envs/myenv/lib/python3.6/site-packages/matplotlib/figure.py:98: MatplotlibDeprecationWarning: \n",
      "Adding an axes using the same arguments as a previous axes currently reuses the earlier instance.  In a future version, a new instance will always be created and returned.  Meanwhile, this warning can be suppressed, and the future behavior ensured, by passing a unique label to each axes instance.\n",
      "  \"Adding an axes using the same arguments as a previous axes \"\n",
      "/Users/rubinakabir/miniconda3/envs/myenv/lib/python3.6/site-packages/matplotlib/figure.py:98: MatplotlibDeprecationWarning: \n",
      "Adding an axes using the same arguments as a previous axes currently reuses the earlier instance.  In a future version, a new instance will always be created and returned.  Meanwhile, this warning can be suppressed, and the future behavior ensured, by passing a unique label to each axes instance.\n",
      "  \"Adding an axes using the same arguments as a previous axes \"\n",
      "/Users/rubinakabir/miniconda3/envs/myenv/lib/python3.6/site-packages/matplotlib/figure.py:98: MatplotlibDeprecationWarning: \n",
      "Adding an axes using the same arguments as a previous axes currently reuses the earlier instance.  In a future version, a new instance will always be created and returned.  Meanwhile, this warning can be suppressed, and the future behavior ensured, by passing a unique label to each axes instance.\n",
      "  \"Adding an axes using the same arguments as a previous axes \"\n",
      "/Users/rubinakabir/miniconda3/envs/myenv/lib/python3.6/site-packages/matplotlib/figure.py:98: MatplotlibDeprecationWarning: \n",
      "Adding an axes using the same arguments as a previous axes currently reuses the earlier instance.  In a future version, a new instance will always be created and returned.  Meanwhile, this warning can be suppressed, and the future behavior ensured, by passing a unique label to each axes instance.\n",
      "  \"Adding an axes using the same arguments as a previous axes \"\n",
      "/Users/rubinakabir/miniconda3/envs/myenv/lib/python3.6/site-packages/matplotlib/figure.py:98: MatplotlibDeprecationWarning: \n",
      "Adding an axes using the same arguments as a previous axes currently reuses the earlier instance.  In a future version, a new instance will always be created and returned.  Meanwhile, this warning can be suppressed, and the future behavior ensured, by passing a unique label to each axes instance.\n",
      "  \"Adding an axes using the same arguments as a previous axes \"\n"
     ]
    },
    {
     "data": {
      "text/plain": [
       "<matplotlib.axes._subplots.AxesSubplot at 0x1a203f1da0>"
      ]
     },
     "execution_count": 46,
     "metadata": {},
     "output_type": "execute_result"
    },
    {
     "data": {
      "image/png": "[encoded data removed]",
      "text/plain": [
       "<Figure size 1080x1080 with 8 Axes>"
      ]
     },
     "metadata": {},
     "output_type": "display_data"
    }
   ],
   "source": [
    "fig2 = plt.figure(figsize=(15,15))\n",
    "\n",
    "# Dancebility\n",
    "ax3 = fig2.add_subplot(331)\n",
    "ax3.set_xlabel(\"Dancebility\")\n",
    "ax3.set_ylabel('Count')\n",
    "ax3.set_title(\"Song Dancibility Like Distribution\")\n",
    "pos_dance.hist(alpha=0.5,bins=30)\n",
    "ax4 = fig2.add_subplot(331)\n",
    "neg_dance.hist(alpha=0.5,bins=30)\n",
    "\n",
    "# Duration_ms\n",
    "ax5 = fig2.add_subplot(332)\n",
    "ax5.set_xlabel(\"Duration\")\n",
    "ax5.set_ylabel('Count')\n",
    "ax5.set_title(\"Song Duration Like Distribution\")\n",
    "pos_duration.hist(alpha=0.5,bins=30)\n",
    "ax6 = fig2.add_subplot(332)\n",
    "neg_duration.hist(alpha=0.5,bins=30)\n",
    "\n",
    "# Loudness\n",
    "ax7 = fig2.add_subplot(333)\n",
    "ax7.set_xlabel(\"Loudness\")\n",
    "ax7.set_ylabel('Count')\n",
    "ax7.set_title(\"Song Loudness Like Distribution\")\n",
    "pos_loudness.hist(alpha=0.5,bins=30)\n",
    "ax8 = fig2.add_subplot(333)\n",
    "neg_loudness.hist(alpha=0.5,bins=30)\n",
    "\n",
    "# Speechiness\n",
    "ax9 = fig2.add_subplot(334)\n",
    "ax9.set_xlabel(\"Speechiness\")\n",
    "ax9.set_ylabel('Count')\n",
    "ax9.set_title(\"Song Speechiness Like Distribution\")\n",
    "pos_speechiness.hist(alpha=0.5,bins=30)\n",
    "ax10 = fig2.add_subplot(334)\n",
    "neg_speechiness.hist(alpha=0.5,bins=30)\n",
    "\n",
    "# Valence\n",
    "ax11 = fig2.add_subplot(335)\n",
    "ax11.set_xlabel(\"Valence\")\n",
    "ax11.set_ylabel('Count')\n",
    "ax11.set_title(\"Song Valence Like Distribution\")\n",
    "pos_valence.hist(alpha=0.5,bins=30)\n",
    "ax12 = fig2.add_subplot(335)\n",
    "neg_valence.hist(alpha=0.5,bins=30)\n",
    "\n",
    "# Energy\n",
    "ax13 = fig2.add_subplot(337)\n",
    "ax13.set_xlabel(\"Energy\")\n",
    "ax13.set_ylabel('Count')\n",
    "ax13.set_title(\"Song Energy Like Distribution\")\n",
    "pos_energy.hist(alpha=0.5,bins=30)\n",
    "ax14 = fig2.add_subplot(337)\n",
    "neg_energy.hist(alpha=0.5,bins=30)\n",
    "\n",
    "# Key\n",
    "ax15 = fig2.add_subplot(338)\n",
    "ax15.set_xlabel(\"Key\")\n",
    "ax15.set_ylabel('Count')\n",
    "ax15.set_title(\"Song Key Like Distribution\")\n",
    "pos_key.hist(alpha=0.5,bins=30)\n",
    "ax16 = fig2.add_subplot(338)\n",
    "neg_key.hist(alpha=0.5,bins=30)\n",
    "\n",
    "# Popularity\n",
    "ax17 = fig2.add_subplot(336)\n",
    "ax17.set_xlabel(\"Popularity\")\n",
    "ax17.set_ylabel('Count')\n",
    "ax17.set_title(\"Song Popularity Like Distribution\")\n",
    "pos_popularity.hist(alpha=0.5,bins=30)\n",
    "ax18 = fig2.add_subplot(336)\n",
    "neg_popularity.hist(alpha=0.5,bins=30)\n"
   ]
  },
  {
   "cell_type": "markdown",
   "metadata": {},
   "source": [
    "######  Figure 2: <center> I can conclude that there is an okay distinction between the classes for each feature. </center>"
   ]
  },
  {
   "cell_type": "markdown",
   "metadata": {},
   "source": [
    "# Machine Learning Techniques\n",
    "Supervised and Unsupervised"
   ]
  },
  {
   "cell_type": "markdown",
   "metadata": {},
   "source": [
    "Here, I will used various methods: \n",
    "\n",
    "        Decision Tree\n",
    "        K-Nearest Neighbors\n",
    "        Multi-layer Perceptron Neural Network\n",
    "        Random Forest\n",
    "        AdaBoost\n",
    "        Naive Bayes\n",
    "        Kmeans\n",
    "        Gradient Boosting \n",
    "        \n",
    "from the sklearn Python package and I will use the method that performed the best to create the Discover Weekly playlist."
   ]
  },
  {
   "cell_type": "code",
   "execution_count": 16,
   "metadata": {},
   "outputs": [],
   "source": [
    "features = [\"danceability\", \"loudness\", \"valence\", \"energy\", \"instrumentalness\", \"acousticness\", \"key\", \"speechiness\",\"duration_ms\"]"
   ]
  },
  {
   "cell_type": "code",
   "execution_count": 34,
   "metadata": {},
   "outputs": [],
   "source": [
    "x_train = train[features]\n",
    "y_train = train['target']\n",
    "\n",
    "x_test = test[features]\n",
    "y_test = test['target']"
   ]
  },
  {
   "cell_type": "markdown",
   "metadata": {},
   "source": [
    "## Decision Tree Classifer"
   ]
  },
  {
   "cell_type": "code",
   "execution_count": 35,
   "metadata": {},
   "outputs": [],
   "source": [
    "c = DecisionTreeClassifier(min_samples_split=100)\n",
    "dt = c.fit(x_train,y_train)\n"
   ]
  },
  {
   "cell_type": "code",
   "execution_count": null,
   "metadata": {},
   "outputs": [],
   "source": [
    "def show_tree(InputTree,features,path):\n",
    "    f = io.StringIO()\n",
    "    tree.export_graphviz(InputTree,out_file=f,feature_names=features)\n",
    "    pydotplus.graph_from_dot_data(f.getvalue())\n",
    "    img = misc.imread(path)\n",
    "    plt.rcParams['figure.figsize'] = (20,20)\n",
    "    plt.imshow(img)\n",
    "show_tree(dt,features,\"dec_tree.png\")"
   ]
  },
  {
   "cell_type": "code",
   "execution_count": 36,
   "metadata": {},
   "outputs": [
    {
     "name": "stdout",
     "output_type": "stream",
     "text": [
      "Accuracy score using Decision Tree 72.81553398058253\n"
     ]
    }
   ],
   "source": [
    "y_pred = dt.predict(x_test)\n",
    "score = accuracy_score(y_test,y_pred)*100\n",
    "print(\"Accuracy score using Decision Tree\",score)"
   ]
  },
  {
   "cell_type": "markdown",
   "metadata": {},
   "source": [
    "# KNN "
   ]
  },
  {
   "cell_type": "code",
   "execution_count": 37,
   "metadata": {},
   "outputs": [
    {
     "name": "stdout",
     "output_type": "stream",
     "text": [
      "Accuracy using KNN  56.957928802588995\n"
     ]
    }
   ],
   "source": [
    "from sklearn.neighbors import KNeighborsClassifier as knn\n",
    "kn = knn(3).fit(x_train,y_train)\n",
    "knn_pred = kn.predict(x_test)\n",
    "score = accuracy_score(y_test,knn_pred)*100\n",
    "print(\"Accuracy using KNN \", score)"
   ]
  },
  {
   "cell_type": "markdown",
   "metadata": {},
   "source": [
    "# MLP"
   ]
  },
  {
   "cell_type": "code",
   "execution_count": 38,
   "metadata": {},
   "outputs": [
    {
     "name": "stdout",
     "output_type": "stream",
     "text": [
      "Accuracy using MLP 52.42718446601942\n"
     ]
    },
    {
     "name": "stderr",
     "output_type": "stream",
     "text": [
      "/Users/rubinakabir/miniconda3/envs/myenv/lib/python3.6/site-packages/sklearn/neural_network/_multilayer_perceptron.py:571: ConvergenceWarning: Stochastic Optimizer: Maximum iterations (200) reached and the optimization hasn't converged yet.\n",
      "  % self.max_iter, ConvergenceWarning)\n"
     ]
    }
   ],
   "source": [
    "from sklearn.neural_network import MLPClassifier\n",
    "mlp = MLPClassifier()\n",
    "mlp.fit(x_train,y_train)\n",
    "mlp_pred = mlp.predict(x_test)\n",
    "score = accuracy_score(y_test,mlp_pred)*100\n",
    "print(\"Accuracy using MLP\", score)\n"
   ]
  },
  {
   "cell_type": "markdown",
   "metadata": {},
   "source": [
    "# Random Forest"
   ]
  },
  {
   "cell_type": "code",
   "execution_count": 42,
   "metadata": {},
   "outputs": [
    {
     "name": "stdout",
     "output_type": "stream",
     "text": [
      "Accuracy using Random Forest  75.72815533980582\n"
     ]
    }
   ],
   "source": [
    "from sklearn.ensemble import RandomForestClassifier\n",
    "forest = RandomForestClassifier(max_depth = 5, n_estimators=10,max_features=1)\n",
    "forest.fit(x_train,y_train)\n",
    "forest_pred = forest.predict(x_test)\n",
    "score = accuracy_score(y_test,forest_pred)*100\n",
    "print(\"Accuracy using Random Forest \", score)"
   ]
  },
  {
   "cell_type": "markdown",
   "metadata": {},
   "source": [
    "# AdaBoost"
   ]
  },
  {
   "cell_type": "code",
   "execution_count": 43,
   "metadata": {},
   "outputs": [
    {
     "name": "stdout",
     "output_type": "stream",
     "text": [
      "Accuracy Score using ADABoost  74.4336569579288\n"
     ]
    }
   ],
   "source": [
    "from sklearn.ensemble import AdaBoostClassifier\n",
    "ada = AdaBoostClassifier(n_estimators=100)\n",
    "ada.fit(x_train,y_train)\n",
    "ada_pred = ada.predict(x_test)\n",
    "score = accuracy_score(y_test,ada_pred)*100\n",
    "print(\"Accuracy Score using ADABoost \",score)"
   ]
  },
  {
   "cell_type": "markdown",
   "metadata": {},
   "source": [
    "# NaiveBayes"
   ]
  },
  {
   "cell_type": "code",
   "execution_count": 44,
   "metadata": {},
   "outputs": [
    {
     "name": "stdout",
     "output_type": "stream",
     "text": [
      "Accuracy using Naive Bayes  62.45954692556634\n"
     ]
    }
   ],
   "source": [
    "from sklearn.naive_bayes import GaussianNB\n",
    "gauss = GaussianNB()\n",
    "gauss.fit(x_train,y_train)\n",
    "gauss_pred = gauss.predict(x_test)\n",
    "score = accuracy_score(y_test,gauss_pred)*100\n",
    "print(\"Accuracy using Naive Bayes \", score)"
   ]
  },
  {
   "cell_type": "markdown",
   "metadata": {},
   "source": [
    "# KMeans"
   ]
  },
  {
   "cell_type": "code",
   "execution_count": 45,
   "metadata": {},
   "outputs": [
    {
     "name": "stdout",
     "output_type": "stream",
     "text": [
      "Accuracy using Kmeans (3)  55.98705501618123\n"
     ]
    }
   ],
   "source": [
    "from sklearn.cluster import KMeans\n",
    "k_means = KMeans(n_clusters=3,random_state=0)\n",
    "k_means.fit(x_train,y_train)\n",
    "k_pred = k_means.predict(x_test)\n",
    "score = accuracy_score(y_test,k_pred)*100\n",
    "print(\"Accuracy using Kmeans (3) \", score)"
   ]
  },
  {
   "cell_type": "markdown",
   "metadata": {},
   "source": [
    "# Gradient Boosting"
   ]
  },
  {
   "cell_type": "code",
   "execution_count": 46,
   "metadata": {},
   "outputs": [
    {
     "name": "stdout",
     "output_type": "stream",
     "text": [
      "Accuracy using Gradient Boosting Tree  76.05177993527508\n"
     ]
    }
   ],
   "source": [
    "from sklearn.ensemble import GradientBoostingClassifier\n",
    "gbc = GradientBoostingClassifier(n_estimators = 100, learning_rate = 0.1,\n",
    "                        max_depth = 1,random_state=0)\n",
    "gbc.fit(x_train,y_train)\n",
    "gbc_pred = gbc.predict(x_test)\n",
    "score = accuracy_score(y_test,gbc_pred) * 100\n",
    "print(\"Accuracy using Gradient Boosting Tree \", score )"
   ]
  },
  {
   "cell_type": "markdown",
   "metadata": {},
   "source": [
    "###### Table 1:\n",
    "<table> <tbody>\n",
    "    <tr> <th> <center>Method </center> </th> <th> <center>Accuracy </center></th> </tr>\n",
    "    <tr> <td> <div align = \"left\"> Decision Tree </div></td> <td> <div align = \"left\">72.82 </div></td> </tr>\n",
    "    <tr> <td> <div align = \"left\">K-Nearest Neighbor </td> <td> <div align = \"left\">56.96 </div></td> </tr>\n",
    "    <tr> <td> <div align = \"left\">Multi-layer Perceptron Neural Network </div></td> <td> <div align = \"left\">52.43 </div></td> </tr>\n",
    "    <tr> <td> <div align = \"left\">Random Forest </div></td> <td> <div align = \"left\">75.73 </div></td> </tr>\n",
    "    <tr> <td> <div align = \"left\">AdaBoost </div></td> <td> <div align = \"left\">74.43 </div></td> </tr>\n",
    "    <tr> <td> <div align = \"left\">Naive Bayes </div></td> <td> <div align = \"left\">62.46 </div></td> </tr>\n",
    "    <tr> <td> <div align = \"left\">Kmeans </div></td> <td> <div align = \"left\">55.99 </div></td> </tr>\n",
    "    <tr> <td> <div align = \"left\">Gradient Boosting </div></td> <td> <div align = \"left\">76.05 </div></td> </tr>\n",
    "    </tbody> </table>\n",
    "    \n"
   ]
  },
  {
   "cell_type": "markdown",
   "metadata": {},
   "source": [
    "# Creating the Playlist\n",
    "\n",
    "\n",
    "Based off Table 1, I will create the Discover Weekly playlist using the Gradient Booster classifier.\n",
    "\n",
    "Obviously, I should've carefully selected my model for creating the playlist, but my goal was to become familiar with the Spotify API."
   ]
  },
  {
   "cell_type": "markdown",
   "metadata": {},
   "source": [
    "I just grabbed an indie playlist on Spotify since that's what I like most. The playlist had 83 songs total and reccommended 67 of those songs to me."
   ]
  },
  {
   "cell_type": "code",
   "execution_count": 82,
   "metadata": {},
   "outputs": [
    {
     "name": "stdout",
     "output_type": "stream",
     "text": [
      "83\n",
      "83\n"
     ]
    }
   ],
   "source": [
    "playlistToFindSongsYouLikeIn = sp.user_playlist(\"spotify\", \"37i9dQZF1DX26DKvjp0s9M\")\n",
    "# https://open.spotify.com/playlist/37i9dQZF1DX26DKvjp0s9M?si=LU2uOHydSsGyD4xVc_mGhQ\n",
    "#https://open.spotify.com/playlist/4b3bAnRKhM48QmSNmAIstQ?si=r9BY7jjzSBSWE793cNuFRQ\n",
    "\n",
    "newPlaylist_tracks = playlistToFindSongsYouLikeIn['tracks']\n",
    "newPlaylist_songs = newPlaylist_tracks['items']\n",
    "\n",
    "while newPlaylist_tracks['next']:\n",
    "    newPlaylist_tracks = sp.next(newPlaylist_tracks)\n",
    "    for song in newPlaylist_tracks['items']:\n",
    "        newPlaylistSongs.append(song)\n",
    "        \n",
    "newPlaylist_song_ids = []\n",
    "print(len(newPlaylist_songs))\n",
    "for i in range(len(newPlaylist_songs)):\n",
    "    newPlaylist_song_ids.append(newPlaylist_songs[i]['track']['id'])\n",
    "    \n",
    "newPlaylist_features=[]\n",
    "j = 0\n",
    "for i in range(0,len(newPlaylist_song_ids),50):\n",
    "    audio_features = sp.audio_features(newPlaylist_song_ids[i:i+50])\n",
    "    for track in audio_features:\n",
    "        track['song_title'] = newPlaylist_songs[j]['track']['name']\n",
    "        track['artist'] = newPlaylist_songs[j]['track']['artists'][0]['name']\n",
    "        j = j + 1\n",
    "        newPlaylist_features.append(track)\n",
    "print(len(newPlaylist_features))\n",
    "\n",
    "playlistToLookAtFeatures = pd.DataFrame(newPlaylist_features)\n",
    "\n",
    "\n",
    "\n"
   ]
  },
  {
   "cell_type": "code",
   "execution_count": null,
   "metadata": {},
   "outputs": [],
   "source": []
  },
  {
   "cell_type": "code",
   "execution_count": 73,
   "metadata": {},
   "outputs": [],
   "source": [
    "newplaylist = sp.user_playlist_create(\"1240047525\", \"API Test Playlist\", public=True)\n",
    "\n"
   ]
  },
  {
   "cell_type": "code",
   "execution_count": 59,
   "metadata": {},
   "outputs": [
    {
     "data": {
      "text/plain": [
       "'spotify:track:2cN7H31DES22HCjYitKggF'"
      ]
     },
     "execution_count": 59,
     "metadata": {},
     "output_type": "execute_result"
    }
   ],
   "source": [
    "playlistToLookAtFeatures['uri'][i]"
   ]
  },
  {
   "cell_type": "code",
   "execution_count": 74,
   "metadata": {},
   "outputs": [
    {
     "name": "stdout",
     "output_type": "stream",
     "text": [
      "Song: Round And Round \n",
      "\tBy: Ariel Pink\n",
      "Song: Holocene \n",
      "\tBy: Bon Iver\n",
      "Song: Crystalised \n",
      "\tBy: The xx\n",
      "Song: Helicopter \n",
      "\tBy: Deerhunter\n",
      "Song: Hunnybee \n",
      "\tBy: Unknown Mortal Orchestra\n",
      "Song: Two Weeks \n",
      "\tBy: Grizzly Bear\n",
      "Song: San Francisco \n",
      "\tBy: Foxygen\n",
      "Song: Pretty Pimpin \n",
      "\tBy: Kurt Vile\n",
      "Song: Lemon Glow \n",
      "\tBy: Beach House\n",
      "Song: Someone Great \n",
      "\tBy: LCD Soundsystem\n",
      "Song: Archie, Marry Me \n",
      "\tBy: Alvvays\n",
      "Song: Baby \n",
      "\tBy: Ariel Pink\n",
      "Song: New Beat \n",
      "\tBy: Toro y Moi\n",
      "Song: Seasons (Waiting On You) \n",
      "\tBy: Future Islands\n",
      "Song: So Good at Being in Trouble \n",
      "\tBy: Unknown Mortal Orchestra\n",
      "Song: Dance Yrself Clean \n",
      "\tBy: LCD Soundsystem\n",
      "Song: Genesis \n",
      "\tBy: Grimes\n",
      "Song: Ode to Viceroy \n",
      "\tBy: Mac DeMarco\n",
      "Song: Eventually \n",
      "\tBy: Tame Impala\n",
      "Song: Gronlandic Edit \n",
      "\tBy: of Montreal\n",
      "Song: Tailwhip \n",
      "\tBy: Men I Trust\n",
      "Song: Real Love Baby \n",
      "\tBy: Father John Misty\n",
      "Song: Lazuli \n",
      "\tBy: Beach House\n",
      "Song: Salad Days \n",
      "\tBy: Mac DeMarco\n",
      "Song: Inside Out \n",
      "\tBy: Spoon\n",
      "Song: Where'd All the Time Go? \n",
      "\tBy: Dr. Dog\n",
      "Song: Myth \n",
      "\tBy: Beach House\n",
      "Song: Chamber Of Reflection \n",
      "\tBy: Mac DeMarco\n",
      "Song: Feel It All Around \n",
      "\tBy: Washed Out\n",
      "Song: This Must Be the Place (Naive Melody) - 2005 Remaster \n",
      "\tBy: Talking Heads\n",
      "Song: Beach Comber \n",
      "\tBy: Real Estate\n",
      "Song: Sprawl II (Mountains Beyond Mountains) \n",
      "\tBy: Arcade Fire\n",
      "Song: Heat Wave \n",
      "\tBy: Snail Mail\n",
      "Song: Wakin on a Pretty Day \n",
      "\tBy: Kurt Vile\n",
      "Song: Wraith Pinned to the Mist and Other Games \n",
      "\tBy: of Montreal\n",
      "Song: Psychic City - Classixx Remix \n",
      "\tBy: YACHT\n",
      "Song: Feels Like We Only Go Backwards \n",
      "\tBy: Tame Impala\n",
      "Song: Cruel \n",
      "\tBy: St. Vincent\n",
      "Song: New York, I Love You but You're Bringing Me Down \n",
      "\tBy: LCD Soundsystem\n",
      "Song: The Light \n",
      "\tBy: Metronomy\n",
      "Song: Gap in the Clouds \n",
      "\tBy: Yellow Days\n",
      "Song: Let It Happen \n",
      "\tBy: Tame Impala\n",
      "Song: Rawnald Gregory Erickson the Second \n",
      "\tBy: STRFKR\n",
      "Song: Still Beating \n",
      "\tBy: Mac DeMarco\n",
      "Song: Gretel \n",
      "\tBy: (Sandy) Alex G\n",
      "Song: My Girls \n",
      "\tBy: Animal Collective\n",
      "Song: At My Heels \n",
      "\tBy: Twin Shadow\n",
      "Song: Lust For Life \n",
      "\tBy: Girls\n",
      "Song: Our Love \n",
      "\tBy: Sharon Van Etten\n",
      "Song: Locket \n",
      "\tBy: Crumb\n",
      "Song: Nobody \n",
      "\tBy: Mac DeMarco\n",
      "Song: Boyfriend \n",
      "\tBy: Best Coast\n",
      "Song: Red Eyes \n",
      "\tBy: The War On Drugs\n",
      "Song: The Breeze \n",
      "\tBy: Dr. Dog\n",
      "Song: Whatever Comes to Mind \n",
      "\tBy: MorMor\n",
      "Song: Swing Lo Magellan \n",
      "\tBy: Dirty Projectors\n",
      "Song: Kingston \n",
      "\tBy: Faye Webster\n",
      "Song: It's Real \n",
      "\tBy: Real Estate\n",
      "Song: Zebra \n",
      "\tBy: Beach House\n",
      "Song: Dark Days \n",
      "\tBy: Local Natives\n",
      "Song: Tenderness \n",
      "\tBy: Jay Som\n",
      "Song: Coffee \n",
      "\tBy: Sylvan Esso\n",
      "Song: Go Outside \n",
      "\tBy: Cults\n",
      "Song: Ancient Water \n",
      "\tBy: Future Islands\n",
      "Song: Clueless \n",
      "\tBy: The Marías\n",
      "Song: Open Your Eyes \n",
      "\tBy: STRFKR\n",
      "Song: Sometimes \n",
      "\tBy: Goth Babe\n"
     ]
    }
   ],
   "source": [
    "pred = gbc.predict(playlistToLookAtFeatures[features])\n",
    "likedSongs = 0\n",
    "i = 0\n",
    "for prediction in pred:\n",
    "    if (prediction == 1):\n",
    "        print(\"Song: \"+ playlistToLookAtFeatures[\"song_title\"][i] +\" \\n\\tBy: \"+ playlistToLookAtFeatures[\"artist\"][i])\n",
    "        likedSongs = likedSongs + 1\n",
    "    i = i + 1"
   ]
  },
  {
   "cell_type": "code",
   "execution_count": 83,
   "metadata": {},
   "outputs": [
    {
     "data": {
      "text/plain": [
       "{'snapshot_id': 'Myw0NGEzNjE1YWE0Yzk2NDc5NGVhZjE0YTNhODYyZTliNDI4NDM2YjYw'}"
      ]
     },
     "execution_count": 83,
     "metadata": {},
     "output_type": "execute_result"
    }
   ],
   "source": [
    "sp.user_playlist_add_tracks(\"1240047525\", \"0IPXA4GqngGNcYTpB51U1C\", playlistToLookAtFeatures['id'])"
   ]
  },
  {
   "cell_type": "markdown",
   "metadata": {},
   "source": [
    "# Conclusions"
   ]
  },
  {
   "cell_type": "markdown",
   "metadata": {},
   "source": [
    "After adding all the songs my classifier reccommended, I found 2 new songs that I actually never knew (I knew nearly all songs on the playlist I ended up selecting already). \n",
    "\n",
    "\n",
    "Future work would include adding more songs to my 'Good' and 'Bad' playlists to  improve the accuracy on the classifiers. In addition, I would implement the ML techniques carefully by implementing CV and also trying other classification methods."
   ]
  }
 ],
 "metadata": {
  "kernelspec": {
   "display_name": "Python 3",
   "language": "python",
   "name": "python3"
  },
  "language_info": {
   "codemirror_mode": {
    "name": "ipython",
    "version": 3
   },
   "file_extension": ".py",
   "mimetype": "text/x-python",
   "name": "python",
   "nbconvert_exporter": "python",
   "pygments_lexer": "ipython3",
   "version": "3.6.10"
  }
 },
 "nbformat": 4,
 "nbformat_minor": 2
}
